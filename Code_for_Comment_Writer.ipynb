{
 "cells": [
  {
   "cell_type": "code",
   "execution_count": 2,
   "metadata": {
    "collapsed": false
   },
   "outputs": [
   ],
   "source": [
    "indicators = {1:\"Identify/characterize/define a programming problem\", 2:\"Understand and be able to use a variety of data types, control structures, and algorithmic problem-solving techniques in their programming\", 3: \"Design, document, implement and test solutions to programming problems\", 4: \"Express creativity using coding and technology in a variety of contexts\", 5: \"Identify and repair coding errors in a program\", 6: \"effectively communicate programming solutions to others\", 7: \"work collaboratively to write modular code on larger projects\", 8: \"Complete assignments on time\"}\n",
    "\n",
    "#course description\n",
    "course = \"this semester in Data Sciece, the topics challenged students to explore how computing and technology can impact the world, with a unique focus on creative problem solving and real-world applications. We covered topics such as data manipulation and analysis using the Pandas package, data visualization using the Matplotlib package, web scraping, and more advanced data structures. Project-oriented group assignments were a large component of the course.\" \n",
    "\n",
    "# print(course)\n",
    "\n",
    "\n",
    "#import csv\n",
    "#with open(\"comments.csv\") as f:\n",
    "#    data = csv.reader(f, delimiter = ',')\n",
    "#    header = next(data)\n",
    "#\n",
    "#    for line in data:\n",
    "#        name = line[0]\n",
    "#        comments = open(f\"{name}.txt\", 'w')\n",
    "        \n",
    "    "
   ]
  },
  {
   "cell_type": "code",
   "execution_count": 3,
   "metadata": {
    "collapsed": false
   },
   "outputs": [
    {
     "data": {
      "text/plain": [
       "'Allison, some areas of growth for you in the next semester include learning indicator 3: \"Design, document, implement and test solutions to programming problems\", as well as learning indicator 8: \"Complete assignments on time\". Moving forward, I encourage you to reach out to me during office hours or through email to communicate with me if you are needing help with assignments.'"
      ]
     },
     "execution_count": 3,
     "metadata": {
     },
     "output_type": "execute_result"
    }
   ],
   "source": [
    "indicators = {1:\"Identify/characterize/define a programming problem\", 2:\"Understand and be able to use a variety of data types, control structures, and algorithmic problem-solving techniques in their programming\", 3: \"Design, document, implement and test solutions to programming problems\", 4: \"Express creativity using coding and technology in a variety of contexts\", 5: \"Identify and repair coding errors in a program\", 6: \"effectively communicate programming solutions to others\", 7: \"work collaboratively to write modular code on larger projects\", 8: \"Complete assignments on time\"}\n",
    "\n",
    "#course description\n",
    "course = \"This semester in Data Sciece, the topics challenged students to explore how computing and technology can impact the world, with a unique focus on creative problem solving and real-world applications. We covered topics such as data manipulation and analysis using the Pandas package, data visualization using the Matplotlib package, web scraping, and more advanced data structures. Project-oriented group assignments were a large component of the course.\" \n",
    "\n",
    "\n",
    "def growth(name):    \n",
    "    import csv\n",
    "    comments = []\n",
    "    with open(\"comments.csv\") as f:\n",
    "        data = csv.reader(f, delimiter = ',')\n",
    "        header = next(data)\n",
    "        for line in data:\n",
    "            comments.append(line)\n",
    "        \n",
    "    for line in comments:\n",
    "        if line[0] == name:\n",
    "            lo1 = int(line[3].split(\",\")[0])\n",
    "            lo2 = int(line[3].split(\",\")[1])\n",
    "            return (f'{name}, some areas of growth for you in the next semester include learning indicator {lo1}: \"{indicators[lo1]}\", as well as learning indicator {lo2}: \"{indicators[lo2]}\". Moving forward, {line[4]}')\n",
    "            \n",
    "growth(\"Allison\")"
   ]
  },
  {
   "cell_type": "code",
   "execution_count": 4,
   "metadata": {
    "collapsed": false
   },
   "outputs": [
    {
     "data": {
      "text/plain": [
       "'Allison, this semester, you were strong in learning indicator 2: \"Understand and be able to use a variety of data types, control structures, and algorithmic problem-solving techniques in their programming\", and learning indicator 4: \"Express creativity using coding and technology in a variety of contexts\". You demonstrated these strengths in the Unit 3 Problem Set and Partner Problem Set. Good job! You should be proud of your hard work.'"
      ]
     },
     "execution_count": 4,
     "metadata": {
     },
     "output_type": "execute_result"
    }
   ],
   "source": [
    "def strength(name):\n",
    "    import csv\n",
    "    comments = []\n",
    "    with open(\"comments.csv\") as f:\n",
    "        data = csv.reader(f, delimiter = ',')\n",
    "        header = next(data)\n",
    "        for line in data:\n",
    "            comments.append(line)\n",
    "\n",
    "    for line in comments:\n",
    "        if line[0] == name:\n",
    "            lo1 = int(line[1].split(\",\")[0])\n",
    "            lo2 = int(line[1].split(\",\")[1])\n",
    "            assignment1 = line[2].split(\",\")[0]\n",
    "            assignment2 = line[2].split(\",\")[1].strip()\n",
    "            return (f'{name}, this semester, you were strong in learning indicator {lo1}: \"{indicators[lo1]}\", and learning indicator {lo2}: \"{indicators[lo2]}\". You demonstrated these strengths in the {assignment1} and {assignment2}. Good job! You should be proud of your hard work.')\n",
    "\n",
    "strength(\"Allison\")"
   ]
  },
  {
   "cell_type": "code",
   "execution_count": 11,
   "metadata": {
    "collapsed": false
   },
   "outputs": [
    {
     "data": {
      "text/plain": [
       "\"Allison, you recieved test scores of 100, 90, and 79 for an average score of 89 across the three units. You struggled in the following units: U3. Come meet with me if you feel you still need support on these topics. Allison, I have noticed that your grades within the units have been decreasing. I'd love to see improvement moving forward. Please reach out to me for support. For the work you have shown in this class, you recieve a grade of B+. This shows that you have gained proficient understanding of the material. Great work! Allison, it has been a pleasure working with you this semester and look forward to more in the future! You'll have the opportunity to come up with some original ideas for some games and then work with a team to code these ideas into reality.\""
      ]
     },
     "execution_count": 11,
     "metadata": {
     },
     "output_type": "execute_result"
    }
   ],
   "source": [
    "def test_summary(name):\n",
    "    import csv\n",
    "    comments = []\n",
    "    with open(\"comments.csv\") as f:\n",
    "        data = csv.reader(f, delimiter = ',')\n",
    "        header = next(data)\n",
    "        for line in data:\n",
    "            comments.append(line)\n",
    "    \n",
    "    test_comments = []\n",
    "    \n",
    "    for line in comments:\n",
    "        if line[0] == name:\n",
    "            u1 = int(line[5])\n",
    "            u2 = int(line[6])\n",
    "            u3 = int(line[7])\n",
    "            avg = int((u1 + u2 + u3)/3)\n",
    "            test_comments.append(f\"{name}, you recieved test scores of {u1}, {u2}, and {u3} for an average score of {avg} across the three units.\")\n",
    "            if u1 < 85 or u2 < 85 or u3 < 85:\n",
    "                test_comments.append(\"You struggled in the following units:\")\n",
    "            if u1 < 85:\n",
    "                test_comments.append(\"U1.\")\n",
    "            if u2 < 85:\n",
    "                test_comments.append(\"U2.\")\n",
    "            if u3 < 85:\n",
    "                test_comments.append(\"U3.\")\n",
    "            if u1 < 85 or u2 < 85 or u3 < 85:\n",
    "                test_comments.append(\"Come meet with me if you feel you still need support on these topics.\")\n",
    "            if u1 >= 85 and u2 >= 85 and u3 >= 85:\n",
    "                test_comments.append(\"You did great in all three units. Keep up the good work!\")\n",
    "            if u1 < u2 < u3:\n",
    "                test_comments.append(\"I am very impressed with your significant progress as we have moved along the units, improving your grade in each unit.\")\n",
    "            if u1 > u2 > u3:\n",
    "                test_comments.append(f\"{name}, I have noticed that your grades within the units have been decreasing. I'd love to see improvement moving forward. Please reach out to me for support.\")\n",
    "            if avg >= 93:\n",
    "                grade = \"A\"\n",
    "            if 90 <= avg and avg < 93:\n",
    "                grade = \"A-\"\n",
    "            if 87 <= avg and avg < 90:\n",
    "                grade = \"B+\"\n",
    "            if 83 <= avg and avg < 87:\n",
    "                grade = \"B\"\n",
    "            if 80 <= avg and avg < 83:\n",
    "                grade = \"B-\"\n",
    "            if 77 <= avg and avg < 80:\n",
    "                grade = \"C+\"\n",
    "            if 73 <= avg and avg < 77:\n",
    "                grade = \"C\"\n",
    "            if 70 <= avg and avg < 73:\n",
    "                grade = \"C-\"\n",
    "            if 67 <= avg and avg < 70:\n",
    "                grade = \"D+\"\n",
    "            if 63 <= avg and avg < 67:\n",
    "                grade = \"D\"\n",
    "            if 60 <= avg and avg < 63:\n",
    "                grade = \"D-\"\n",
    "            if avg < 60:\n",
    "                grade = \"F\"\n",
    "            test_comments.append(f\"For the work you have shown in this class, you recieve a grade of {grade}.\")\n",
    "            if avg > 90:\n",
    "                test_comments.append(f\"Excellent work, {name}! You are able to overcome obstacles and show a thorough understanding of the material.\")\n",
    "            if 90 > avg > 80:\n",
    "                test_comments.append(\"This shows that you have gained proficient understanding of the material. Great work!\")\n",
    "            elif 80 > avg > 70:\n",
    "                test_comments.append(\"If you are struggling in class, please talk to me and we will figure out a plan.\")\n",
    "            elif 70 > avg > 60:\n",
    "                test_comments.append(\"This is not a passing grade. Please reach out to me and your student support system here at school. You got this!\")\n",
    "            test_comments.append(f\"{name},\")\n",
    "            test_comments.append(line[8])\n",
    "    test_comments = \" \".join(test_comments)\n",
    "    return(test_comments)\n",
    "test_summary(\"Allison\")"
   ]
  },
  {
   "cell_type": "code",
   "execution_count": 5,
   "metadata": {
    "collapsed": false
   },
   "outputs": [
   ],
   "source": [
    "def comment_maker(name):\n",
    "    import csv\n",
    "    comments = []\n",
    "    with open(\"comments.csv\") as f:\n",
    "        data = csv.reader(f, delimiter = ',')\n",
    "        header = next(data)\n",
    "        for line in data:\n",
    "            comments.append(line)\n",
    "            \n",
    "    for line in comments:\n",
    "        if name == line[0]:\n",
    "            comment = open(f\"{name}.txt\", 'w')\n",
    "            comment.write(f\"{course}\\n\\n{strength(name)}\\n\\n{growth(name)}\\n\\n{test_summary(name)}\")\n",
    "            comment.close()\n",
    "\n",
    "comment_maker(\"Allison\")\n"
   ]
  },
  {
   "cell_type": "code",
   "execution_count": 12,
   "metadata": {
    "collapsed": false
   },
   "outputs": [
   ],
   "source": [
    "\n",
    "import csv\n",
    "comments = []\n",
    "with open(\"comments.csv\") as f:\n",
    "    data = csv.reader(f, delimiter = ',')\n",
    "    header = next(data)\n",
    "    for line in data:\n",
    "        comments.append(line)\n",
    "for line in comments:\n",
    "    comment_maker(line[0])\n"
   ]
  },
  {
   "cell_type": "code",
   "execution_count": 0,
   "metadata": {
    "collapsed": false
   },
   "outputs": [
   ],
   "source": [
   ]
  }
 ],
 "metadata": {
  "kernelspec": {
   "display_name": "Python 3 (Anaconda 2020)",
   "env": {
    "ADDR2LINE": "/ext/anaconda2020.02/bin/x86_64-conda_cos6-linux-gnu-addr2line",
    "ANACONDA2019": "$EXT/anaconda-2019.03",
    "ANACONDA2020": "/ext/anaconda2020.02",
    "ANACONDA3": "$EXT/anaconda3",
    "ANACONDA5": "$EXT/anaconda5",
    "AR": "/ext/anaconda2020.02/bin/x86_64-conda_cos6-linux-gnu-ar",
    "AS": "/ext/anaconda2020.02/bin/x86_64-conda_cos6-linux-gnu-as",
    "CC": "/ext/anaconda2020.02/bin/x86_64-conda_cos6-linux-gnu-cc",
    "CFLAGS": "-march=nocona -mtune=haswell -ftree-vectorize -fPIC -fstack-protector-strong -fno-plt -O2 -ffunction-sections -pipe -isystem /ext/anaconda2020.02/include",
    "CMAKE_PREFIX_PATH": "/ext/anaconda2020.02:/ext/anaconda2020.02/x86_64-conda_cos6-linux-gnu/sysroot/usr",
    "CONDA_BACKUP_HOST": "x86_64-conda_cos6-linux-gnu",
    "CONDA_BUILD_SYSROOT": "/ext/anaconda2020.02/x86_64-conda_cos6-linux-gnu/sysroot",
    "CONDA_DEFAULT_ENV": "base",
    "CONDA_EXE": "/ext/anaconda2020.02/bin/conda",
    "CONDA_MKL_INTERFACE_LAYER_BACKUP": "",
    "CONDA_PREFIX": "/ext/anaconda2020.02",
    "CONDA_PROMPT_MODIFIER": "(base) ",
    "CONDA_PYTHON_EXE": "/ext/anaconda2020.02/bin/python",
    "CONDA_SHLVL": "1",
    "CPP": "/ext/anaconda2020.02/bin/x86_64-conda_cos6-linux-gnu-cpp",
    "CPPFLAGS": "-DNDEBUG -D_FORTIFY_SOURCE=2 -O2 -isystem /ext/anaconda2020.02/include",
    "CXX": "/ext/anaconda2020.02/bin/x86_64-conda_cos6-linux-gnu-c++",
    "CXXFILT": "/ext/anaconda2020.02/bin/x86_64-conda_cos6-linux-gnu-c++filt",
    "CXXFLAGS": "-fvisibility-inlines-hidden -std=c++17 -fmessage-length=0 -march=nocona -mtune=haswell -ftree-vectorize -fPIC -fstack-protector-strong -fno-plt -O2 -ffunction-sections -pipe -isystem /ext/anaconda2020.02/include",
    "DEBUG_CFLAGS": "-march=nocona -mtune=haswell -ftree-vectorize -fPIC -fstack-protector-all -fno-plt -Og -g -Wall -Wextra -fvar-tracking-assignments -ffunction-sections -pipe -isystem /ext/anaconda2020.02/include",
    "DEBUG_CPPFLAGS": "-D_DEBUG -D_FORTIFY_SOURCE=2 -Og -isystem /ext/anaconda2020.02/include",
    "DEBUG_CXXFLAGS": "-fvisibility-inlines-hidden -std=c++17 -fmessage-length=0 -march=nocona -mtune=haswell -ftree-vectorize -fPIC -fstack-protector-all -fno-plt -Og -g -Wall -Wextra -fvar-tracking-assignments -ffunction-sections -pipe -isystem /ext/anaconda2020.02/include",
    "DEBUG_FFLAGS": "-fopenmp -march=nocona -mtune=haswell -ftree-vectorize -fPIC -fstack-protector-strong -fno-plt -O2 -ffunction-sections -pipe -isystem /ext/anaconda2020.02/include -fopenmp -march=nocona -mtune=haswell -ftree-vectorize -fPIC -fstack-protector-all -fno-plt -Og -g -Wall -Wextra -fcheck=all -fbacktrace -fimplicit-none -fvar-tracking-assignments -ffunction-sections -pipe",
    "DEBUG_FORTRANFLAGS": "-fopenmp -march=nocona -mtune=haswell -ftree-vectorize -fPIC -fstack-protector-strong -fno-plt -O2 -ffunction-sections -pipe -isystem /ext/anaconda2020.02/include -fopenmp -march=nocona -mtune=haswell -ftree-vectorize -fPIC -fstack-protector-all -fno-plt -Og -g -Wall -Wextra -fcheck=all -fbacktrace -fimplicit-none -fvar-tracking-assignments -ffunction-sections -pipe",
    "ELFEDIT": "/ext/anaconda2020.02/bin/x86_64-conda_cos6-linux-gnu-elfedit",
    "F77": "/ext/anaconda2020.02/bin/x86_64-conda_cos6-linux-gnu-gfortran",
    "F90": "/ext/anaconda2020.02/bin/x86_64-conda_cos6-linux-gnu-gfortran",
    "F95": "/ext/anaconda2020.02/bin/x86_64-conda_cos6-linux-gnu-f95",
    "FC": "/ext/anaconda2020.02/bin/x86_64-conda_cos6-linux-gnu-gfortran",
    "FFLAGS": "-fopenmp -march=nocona -mtune=haswell -ftree-vectorize -fPIC -fstack-protector-strong -fno-plt -O2 -ffunction-sections -pipe -isystem /ext/anaconda2020.02/include",
    "FORTRANFLAGS": "-fopenmp -march=nocona -mtune=haswell -ftree-vectorize -fPIC -fstack-protector-strong -fno-plt -O2 -ffunction-sections -pipe -isystem /ext/anaconda2020.02/include",
    "GCC": "/ext/anaconda2020.02/bin/x86_64-conda_cos6-linux-gnu-gcc",
    "GCC_AR": "/ext/anaconda2020.02/bin/x86_64-conda_cos6-linux-gnu-gcc-ar",
    "GCC_NM": "/ext/anaconda2020.02/bin/x86_64-conda_cos6-linux-gnu-gcc-nm",
    "GCC_RANLIB": "/ext/anaconda2020.02/bin/x86_64-conda_cos6-linux-gnu-gcc-ranlib",
    "GDAL_DATA": "/ext/anaconda2020.02/share/gdal",
    "GFORTRAN": "/ext/anaconda2020.02/bin/x86_64-conda_cos6-linux-gnu-gfortran",
    "GPROF": "/ext/anaconda2020.02/bin/x86_64-conda_cos6-linux-gnu-gprof",
    "GXX": "/ext/anaconda2020.02/bin/x86_64-conda_cos6-linux-gnu-g++",
    "JAVA_HOME": "/ext/anaconda2020.02",
    "JAVA_HOME_CONDA_BACKUP": "",
    "JAVA_LD_LIBRARY_PATH": "/ext/anaconda2020.02/lib/server",
    "LD": "/ext/anaconda2020.02/bin/x86_64-conda_cos6-linux-gnu-ld",
    "LDFLAGS": "-Wl,-O2 -Wl,--sort-common -Wl,--as-needed -Wl,-z,relro -Wl,-z,now -Wl,--disable-new-dtags -Wl,--gc-sections -Wl,-rpath,/ext/anaconda2020.02/lib -Wl,-rpath-link,/ext/anaconda2020.02/lib -L/ext/anaconda2020.02/lib",
    "LD_GOLD": "/ext/anaconda2020.02/bin/x86_64-conda_cos6-linux-gnu-ld.gold",
    "LD_LIBRARY_PATH": "/ext/anaconda2020.02/lib",
    "MKL_INTERFACE_LAYER": "LP64,GNU",
    "MKL_THREADING_LAYER": "GNU",
    "NM": "/ext/anaconda2020.02/bin/x86_64-conda_cos6-linux-gnu-nm",
    "OBJCOPY": "/ext/anaconda2020.02/bin/x86_64-conda_cos6-linux-gnu-objcopy",
    "OBJDUMP": "/ext/anaconda2020.02/bin/x86_64-conda_cos6-linux-gnu-objdump",
    "OLDPWD": "/ext/anaconda2020.02",
    "PATH": "/ext/anaconda2020.02/bin:/ext/anaconda2020.02/bin:/ext/anaconda2020.02/condabin:/cocalc/bin:/cocalc/src/smc-project/bin:/home/salvus/bin:/home/salvus/.local/bin:/usr/lib/xpra:/ext/bin:/opt/ghc/bin:/usr/local/sbin:/usr/local/bin:/usr/sbin:/usr/bin:/sbin:/bin:/snap/bin:/usr/lib/postgresql/10/bin:/ext/data/homer/bin:/ext/data/weblogo",
    "PROJ_LIB": "/ext/anaconda2020.02/share/proj",
    "RANLIB": "/ext/anaconda2020.02/bin/x86_64-conda_cos6-linux-gnu-ranlib",
    "READELF": "/ext/anaconda2020.02/bin/x86_64-conda_cos6-linux-gnu-readelf",
    "RSTUDIO_WHICH_R": "/ext/anaconda2020.02/bin/R",
    "SIZE": "/ext/anaconda2020.02/bin/x86_64-conda_cos6-linux-gnu-size",
    "STRINGS": "/ext/anaconda2020.02/bin/x86_64-conda_cos6-linux-gnu-strings",
    "STRIP": "/ext/anaconda2020.02/bin/x86_64-conda_cos6-linux-gnu-strip",
    "_CE_CONDA": "",
    "_CE_M": "",
    "_CONDA_PYTHON_SYSCONFIGDATA_NAME": "_sysconfigdata_x86_64_conda_cos6_linux_gnu"
   },
   "language": "python",
   "metadata": {
    "cocalc": {
     "description": "Python/R distribution for data science",
     "priority": 2,
     "url": "https://www.anaconda.com/distribution/"
    }
   },
   "name": "anaconda2020",
   "resource_dir": "/ext/jupyter/kernels/anaconda2020"
  },
  "language_info": {
   "codemirror_mode": {
    "name": "ipython",
    "version": 3
   },
   "file_extension": ".py",
   "mimetype": "text/x-python",
   "name": "python",
   "nbconvert_exporter": "python",
   "pygments_lexer": "ipython3",
   "version": "3.7.8"
  }
 },
 "nbformat": 4,
 "nbformat_minor": 4
}